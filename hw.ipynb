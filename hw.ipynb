# -In [10]:
import jieba
import jieba.analyse
import re
import pandas as pd
import matplotlib.pyplot as plt
In [12]:
def TF_IDF():
    txt = open("hw1.txt", encoding="utf-8").read()
    tags = jieba.analyse.extract_tags(txt, topK=100, withWeight=True)

    df = pd.DataFrame(tags, columns = ["word", "TF-IDF"]) 
    print('權重排名(前100)')
    print(df)
    print('權重圖(fig1):')
    chart = df.plot( kind ='bar',
                    title = 'word/TF-IDF',
                    xlabel = 'word',
                    ylabel = 'TF-IDF',
                    figsize = (35,15))
    plt.show()

def Frequency():
    seg_word=""
    txt = open("hw1.txt", encoding="utf-8").read()
    ch =re.compile("[\u4e00-\u9fa5]")
    seg_word =  "".join(ch.findall(txt))
    cut = jieba.lcut(seg_word)

    counts = {}
    for i in cut :
        if(len(i)>1):
            counts[i] = counts.get(i,0) + 1

    items = list(counts.items())  
    items.sort(key=lambda x:x[1], reverse=True)

    for i in range(100):  
        word, count = items[i]  
        # print("{0:<10}{1:>5}".format(word, count))
    
    df = pd.DataFrame(items, columns = ["word", "Frequncy"]).sort_values(['Frequncy'],ascending=[False])[0:100]
    print('出現頻率排名(前100)')
    print(df)
    print('頻率圖(fig2):')
    chart = df.plot( kind ='bar',
                    title = 'word/Frequncy',
                    xlabel = 'word',
                    ylabel = 'Frequncy',
                    figsize = (35,15))
    plt.show()
    

TF_IDF()
Frequency()
